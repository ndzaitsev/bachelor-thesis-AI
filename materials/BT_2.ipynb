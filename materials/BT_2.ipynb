{
 "cells": [
  {
   "cell_type": "code",
   "execution_count": 1,
   "id": "094f4ea2-101d-4bfd-9fd8-363575a666d6",
   "metadata": {},
   "outputs": [],
   "source": [
    "import pandas as pd\n",
    "import numpy as np\n",
    "import time\n",
    "from sklearn.datasets import fetch_openml\n",
    "from sklearn.model_selection import train_test_split\n",
    "from sklearn.metrics import accuracy_score\n",
    "import jpype\n",
    "import tempfile\n",
    "import os\n",
    "from LocalRuleClassifier import LocalRuleClassifier"
   ]
  },
  {
   "cell_type": "code",
   "execution_count": 2,
   "id": "4ccaeece-6ba2-453e-add8-834e338eb6e1",
   "metadata": {},
   "outputs": [],
   "source": [
    "# internal config\n",
    "jar_path = \"/LORD-master/lord.jar\"\n",
    "jpype.startJVM(\n",
    "    jpype.getDefaultJVMPath(),\n",
    "    \"-ea\",\n",
    "    \"--enable-native-access=ALL-UNNAMED\",\n",
    "    classpath=[jar_path]\n",
    ")"
   ]
  },
  {
   "cell_type": "code",
   "execution_count": 3,
   "id": "fd5bca97-ffc9-4bcc-85e4-65f7db733044",
   "metadata": {},
   "outputs": [],
   "source": [
    "datasets = [\n",
    "    (\"mushroom\", 1),\n",
    "    (\"bank-marketing\", 1),\n",
    "    (\"adult\", 1),\n",
    "    (\"page-blocks\", 1)\n",
    "]\n",
    "\n",
    "model = LocalRuleClassifier(\n",
    "    metric=\"MESTIMATE\",\n",
    "    metric_arg=0.1\n",
    ")"
   ]
  },
  {
   "cell_type": "code",
   "execution_count": 4,
   "id": "44065f4c-ce43-4760-935b-6035cd20afbb",
   "metadata": {},
   "outputs": [
    {
     "name": "stdout",
     "output_type": "stream",
     "text": [
      "\tSearchRuleThread 2 founds 32 rules, finished in 350 ms\n",
      "\tSearchRuleThread 3 founds 29 rules, finished in 350 ms\n",
      "\tSearchRuleThread 0 founds 31 rules, finished in 350 ms\n",
      "\tSearchRuleThread 1 founds 32 rules, finished in 350 ms\n",
      "\tFilterRuleThread 1 finished in 28 ms\n",
      "\tFilterRuleThread 3 finished in 28 ms\n",
      "\tFilterRuleThread 0 finished in 28 ms\n",
      "\tFilterRuleThread 2 finished in 28 ms\n",
      "\tSearchRuleThread 2 founds 5023 rules, finished in 1370 ms\n",
      "\tSearchRuleThread 3 founds 4931 rules, finished in 1370 ms\n",
      "\tSearchRuleThread 1 founds 4957 rules, finished in 1370 ms\n",
      "\tSearchRuleThread 0 founds 4956 rules, finished in 1370 ms\n",
      "\tFilterRuleThread 3 finished in 240 ms\n",
      "\tFilterRuleThread 0 finished in 240 ms\n",
      "\tFilterRuleThread 1 finished in 240 ms\n",
      "\tFilterRuleThread 2 finished in 240 ms\n",
      "\tSearchRuleThread 0 founds 3540 rules, finished in 2966 ms\n",
      "\tSearchRuleThread 2 founds 3602 rules, finished in 2966 ms\n",
      "\tSearchRuleThread 3 founds 3541 rules, finished in 2966 ms\n",
      "\tSearchRuleThread 1 founds 3660 rules, finished in 2966 ms\n",
      "\tFilterRuleThread 3 finished in 262 ms\n",
      "\tFilterRuleThread 0 finished in 262 ms\n",
      "\tFilterRuleThread 1 finished in 262 ms\n",
      "\tFilterRuleThread 2 finished in 262 ms\n",
      "\tSearchRuleThread 3 founds 541 rules, finished in 280 ms\n",
      "\tSearchRuleThread 0 founds 597 rules, finished in 281 ms\n",
      "\tSearchRuleThread 2 founds 571 rules, finished in 280 ms\n",
      "\tSearchRuleThread 1 founds 506 rules, finished in 281 ms\n",
      "\tFilterRuleThread 2 finished in 15 ms\n",
      "\tFilterRuleThread 0 finished in 16 ms\n",
      "\tFilterRuleThread 3 finished in 12 ms\n",
      "\tFilterRuleThread 1 finished in 15 ms\n"
     ]
    }
   ],
   "source": [
    "results = []\n",
    "\n",
    "for name, version in datasets:\n",
    "    X, y = fetch_openml(name, version=version, as_frame=True, return_X_y=True)\n",
    "    \n",
    "    X_raw = X.astype(str)\n",
    "    y_raw = y.astype(str)    \n",
    "\n",
    "    \n",
    "    X_raw_train, X_raw_test, y_train, y_test = train_test_split(\n",
    "        X_raw, y_raw, test_size=0.1, stratify=y_raw, random_state=42\n",
    "    )\n",
    "    \n",
    "    X_tr = X_raw_train.values\n",
    "    X_te = X_raw_test.values\n",
    "\n",
    "    start = time.time()\n",
    "    model.fit(X_tr, y_train)\n",
    "    dt = time.time() - start\n",
    "\n",
    "    y_pred = model.predict(X_te)\n",
    "    acc = accuracy_score(y_test, y_pred)\n",
    "\n",
    "    # Accuracy\n",
    "    acc = accuracy_score(y_test, y_pred)\n",
    "    results.append((name, f\"{acc:.3f}\", f\"{dt:.2f}\", len(y_test)))"
   ]
  },
  {
   "cell_type": "code",
   "execution_count": 5,
   "id": "f4e883c5-bcaa-46ff-bc25-875e3859c04d",
   "metadata": {},
   "outputs": [
    {
     "data": {
      "text/html": [
       "<div>\n",
       "<style scoped>\n",
       "    .dataframe tbody tr th:only-of-type {\n",
       "        vertical-align: middle;\n",
       "    }\n",
       "\n",
       "    .dataframe tbody tr th {\n",
       "        vertical-align: top;\n",
       "    }\n",
       "\n",
       "    .dataframe thead th {\n",
       "        text-align: right;\n",
       "    }\n",
       "</style>\n",
       "<table border=\"1\" class=\"dataframe\">\n",
       "  <thead>\n",
       "    <tr style=\"text-align: right;\">\n",
       "      <th></th>\n",
       "      <th>Dataset</th>\n",
       "      <th>Accuracy</th>\n",
       "      <th>Time (s)</th>\n",
       "      <th>Test Samples</th>\n",
       "    </tr>\n",
       "  </thead>\n",
       "  <tbody>\n",
       "    <tr>\n",
       "      <th>0</th>\n",
       "      <td>mushroom</td>\n",
       "      <td>1.000</td>\n",
       "      <td>0.54</td>\n",
       "      <td>813</td>\n",
       "    </tr>\n",
       "    <tr>\n",
       "      <th>1</th>\n",
       "      <td>bank-marketing</td>\n",
       "      <td>0.888</td>\n",
       "      <td>1.89</td>\n",
       "      <td>4522</td>\n",
       "    </tr>\n",
       "    <tr>\n",
       "      <th>2</th>\n",
       "      <td>adult</td>\n",
       "      <td>0.839</td>\n",
       "      <td>3.51</td>\n",
       "      <td>4885</td>\n",
       "    </tr>\n",
       "    <tr>\n",
       "      <th>3</th>\n",
       "      <td>page-blocks</td>\n",
       "      <td>0.922</td>\n",
       "      <td>0.33</td>\n",
       "      <td>548</td>\n",
       "    </tr>\n",
       "  </tbody>\n",
       "</table>\n",
       "</div>"
      ],
      "text/plain": [
       "          Dataset Accuracy Time (s)  Test Samples\n",
       "0        mushroom    1.000     0.54           813\n",
       "1  bank-marketing    0.888     1.89          4522\n",
       "2           adult    0.839     3.51          4885\n",
       "3     page-blocks    0.922     0.33           548"
      ]
     },
     "execution_count": 5,
     "metadata": {},
     "output_type": "execute_result"
    }
   ],
   "source": [
    "df_results = pd.DataFrame(results, columns=[\"Dataset\", \"Accuracy\", \"Time (s)\",\"Test Samples\"])\n",
    "df_results"
   ]
  },
  {
   "cell_type": "code",
   "execution_count": null,
   "id": "b4708ab7-c082-4a0f-8fb7-8f27c8584290",
   "metadata": {},
   "outputs": [],
   "source": []
  }
 ],
 "metadata": {
  "kernelspec": {
   "display_name": "Python 3 (ipykernel)",
   "language": "python",
   "name": "python3"
  },
  "language_info": {
   "codemirror_mode": {
    "name": "ipython",
    "version": 3
   },
   "file_extension": ".py",
   "mimetype": "text/x-python",
   "name": "python",
   "nbconvert_exporter": "python",
   "pygments_lexer": "ipython3",
   "version": "3.12.4"
  }
 },
 "nbformat": 4,
 "nbformat_minor": 5
}
